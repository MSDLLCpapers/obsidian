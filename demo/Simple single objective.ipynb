{
 "cells": [
  {
   "cell_type": "code",
   "execution_count": null,
   "metadata": {},
   "outputs": [],
   "source": [
    "import obsidian\n",
    "obsidian.__version__"
   ]
  },
  {
   "cell_type": "code",
   "execution_count": null,
   "metadata": {},
   "outputs": [],
   "source": [
    "import pandas as pd\n",
    "import plotly.express as px"
   ]
  },
  {
   "cell_type": "code",
   "execution_count": null,
   "metadata": {},
   "outputs": [],
   "source": [
    "from obsidian.parameters import ParamSpace, Param_Categorical, Param_Ordinal, Param_Continuous\n",
    "from obsidian.experiment import ExpDesigner"
   ]
  },
  {
   "cell_type": "markdown",
   "metadata": {},
   "source": [
    "### Set up parameter space and initialize a design"
   ]
  },
  {
   "cell_type": "code",
   "execution_count": null,
   "metadata": {},
   "outputs": [],
   "source": [
    "params = [\n",
    "    Param_Continuous('Temperature', -10, 30),\n",
    "    Param_Continuous('Concentration', 10, 150),\n",
    "    Param_Continuous('Enzyme', 0.01, 0.30),\n",
    "    Param_Categorical('Variant', ['MRK001', 'MRK002', 'MRK003']),\n",
    "    Param_Ordinal('Stir Rate', ['Low', 'Medium', 'High']),\n",
    "    ]\n",
    "\n",
    "X_space = ParamSpace(params)\n",
    "designer = ExpDesigner(X_space, seed=0)\n",
    "X0 = designer.initialize(10, 'LHS')\n",
    "\n",
    "X0"
   ]
  },
  {
   "cell_type": "markdown",
   "metadata": {},
   "source": [
    "### Collect results (e.g. from a simulation)"
   ]
  },
  {
   "cell_type": "code",
   "execution_count": null,
   "metadata": {},
   "outputs": [],
   "source": [
    "from obsidian.experiment import Simulator\n",
    "from obsidian.experiment.benchmark import shifted_parab\n",
    "\n",
    "simulator = Simulator(X_space, shifted_parab, name='Yield', eps=0.05)\n",
    "y0 = simulator.simulate(X0)\n",
    "Z0 = pd.concat([X0, y0], axis=1)\n",
    "\n",
    "Z0"
   ]
  },
  {
   "cell_type": "code",
   "execution_count": null,
   "metadata": {},
   "outputs": [],
   "source": [
    "Z0.to_csv('Example APO Data Input.csv')"
   ]
  },
  {
   "cell_type": "code",
   "execution_count": null,
   "metadata": {},
   "outputs": [],
   "source": [
    "Z0.plot(x='Temperature', y='Yield', kind='scatter', figsize=(4,3))"
   ]
  },
  {
   "cell_type": "markdown",
   "metadata": {},
   "source": [
    "### Create a campaign to track optimization"
   ]
  },
  {
   "cell_type": "code",
   "execution_count": null,
   "metadata": {},
   "outputs": [],
   "source": [
    "from obsidian.campaign import Campaign"
   ]
  },
  {
   "cell_type": "code",
   "execution_count": null,
   "metadata": {},
   "outputs": [],
   "source": [
    "my_campaign = Campaign(X_space)\n",
    "my_campaign.add_data(Z0)\n",
    "my_campaign.data"
   ]
  },
  {
   "cell_type": "markdown",
   "metadata": {},
   "source": [
    "### Fit an optimizer"
   ]
  },
  {
   "cell_type": "code",
   "execution_count": null,
   "metadata": {},
   "outputs": [],
   "source": [
    "from obsidian.parameters import Target"
   ]
  },
  {
   "cell_type": "code",
   "execution_count": null,
   "metadata": {},
   "outputs": [],
   "source": [
    "target = Target('Yield', aim='max')\n",
    "my_campaign.set_target(target)\n",
    "my_campaign.fit()"
   ]
  },
  {
   "cell_type": "markdown",
   "metadata": {},
   "source": [
    "### Make new experiment suggestions"
   ]
  },
  {
   "cell_type": "code",
   "execution_count": null,
   "metadata": {},
   "outputs": [],
   "source": [
    "X_suggest, eval_suggest = my_campaign.optimizer.suggest(m_batch=1, acquisition = ['EI','EI'])"
   ]
  },
  {
   "cell_type": "code",
   "execution_count": null,
   "metadata": {},
   "outputs": [],
   "source": [
    "df_suggest = pd.concat([X_suggest, eval_suggest], axis=1)\n",
    "df_suggest"
   ]
  },
  {
   "cell_type": "markdown",
   "metadata": {},
   "source": [
    "### Collect data at new suggestions"
   ]
  },
  {
   "cell_type": "code",
   "execution_count": null,
   "metadata": {},
   "outputs": [],
   "source": [
    "y_iter1 = pd.DataFrame(simulator.simulate(X_suggest), columns = ['Yield'])\n",
    "Z_iter1 = pd.concat([X_suggest, y_iter1, eval_suggest], axis=1)\n",
    "my_campaign.add_data(Z_iter1)"
   ]
  },
  {
   "cell_type": "markdown",
   "metadata": {},
   "source": [
    "### Repeat as desired"
   ]
  },
  {
   "cell_type": "code",
   "execution_count": null,
   "metadata": {},
   "outputs": [],
   "source": [
    "Z_iter1.reset_index(drop=True)"
   ]
  },
  {
   "cell_type": "code",
   "execution_count": null,
   "metadata": {},
   "outputs": [],
   "source": [
    "my_campaign.data"
   ]
  },
  {
   "cell_type": "code",
   "execution_count": null,
   "metadata": {},
   "outputs": [],
   "source": [
    "for iter in range(3):\n",
    "    my_campaign.fit()\n",
    "    X_suggest, eval_suggest = my_campaign.optimizer.suggest(m_batch=3)\n",
    "    y_iter = pd.DataFrame(simulator.simulate(X_suggest))\n",
    "    Z_iter = pd.concat([X_suggest, y_iter, eval_suggest], axis=1)\n",
    "    my_campaign.add_data(Z_iter)"
   ]
  },
  {
   "cell_type": "code",
   "execution_count": null,
   "metadata": {},
   "outputs": [],
   "source": [
    "my_campaign.data"
   ]
  },
  {
   "cell_type": "code",
   "execution_count": null,
   "metadata": {},
   "outputs": [],
   "source": [
    "fig = px.scatter(my_campaign.data, x=my_campaign.data.index, y='Yield', color='aq Value')\n",
    "fig.update_layout(height=300, width=400, template='ggplot2')"
   ]
  },
  {
   "cell_type": "code",
   "execution_count": null,
   "metadata": {},
   "outputs": [],
   "source": [
    "my_campaign.data"
   ]
  },
  {
   "cell_type": "code",
   "execution_count": null,
   "metadata": {},
   "outputs": [],
   "source": []
  }
 ],
 "metadata": {
  "kernelspec": {
   "display_name": "Python 3 (ipykernel)",
   "language": "python",
   "name": "python3"
  },
  "language_info": {
   "codemirror_mode": {
    "name": "ipython",
    "version": 3
   },
   "file_extension": ".py",
   "mimetype": "text/x-python",
   "name": "python",
   "nbconvert_exporter": "python",
   "pygments_lexer": "ipython3",
   "version": "3.10.14"
  }
 },
 "nbformat": 4,
 "nbformat_minor": 4
}
