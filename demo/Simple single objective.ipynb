{
 "cells": [
  {
   "cell_type": "code",
   "execution_count": 1,
   "metadata": {},
   "outputs": [
    {
     "name": "stderr",
     "output_type": "stream",
     "text": [
      "c:\\Users\\kevin\\miniconda3\\envs\\obsidian-pypi\\lib\\site-packages\\tqdm\\auto.py:21: TqdmWarning: IProgress not found. Please update jupyter and ipywidgets. See https://ipywidgets.readthedocs.io/en/stable/user_install.html\n",
      "  from .autonotebook import tqdm as notebook_tqdm\n"
     ]
    },
    {
     "data": {
      "text/plain": [
       "'0.7.10'"
      ]
     },
     "execution_count": 1,
     "metadata": {},
     "output_type": "execute_result"
    }
   ],
   "source": [
    "import obsidian\n",
    "obsidian.__version__"
   ]
  },
  {
   "cell_type": "code",
   "execution_count": 2,
   "metadata": {},
   "outputs": [],
   "source": [
    "import pandas as pd\n",
    "import plotly.express as px"
   ]
  },
  {
   "cell_type": "code",
   "execution_count": 3,
   "metadata": {},
   "outputs": [],
   "source": [
    "from obsidian import Campaign, Target, ParamSpace, BayesianOptimizer\n",
    "from obsidian.parameters import Param_Categorical, Param_Ordinal, Param_Continuous"
   ]
  },
  {
   "cell_type": "markdown",
   "metadata": {},
   "source": [
    "### Set up parameter space and initialize a design"
   ]
  },
  {
   "cell_type": "code",
   "execution_count": 4,
   "metadata": {},
   "outputs": [
    {
     "data": {
      "text/html": [
       "<div>\n",
       "<style scoped>\n",
       "    .dataframe tbody tr th:only-of-type {\n",
       "        vertical-align: middle;\n",
       "    }\n",
       "\n",
       "    .dataframe tbody tr th {\n",
       "        vertical-align: top;\n",
       "    }\n",
       "\n",
       "    .dataframe thead th {\n",
       "        text-align: right;\n",
       "    }\n",
       "</style>\n",
       "<table border=\"1\" class=\"dataframe\">\n",
       "  <thead>\n",
       "    <tr style=\"text-align: right;\">\n",
       "      <th></th>\n",
       "      <th>Temperature</th>\n",
       "      <th>Concentration</th>\n",
       "      <th>Enzyme</th>\n",
       "      <th>Variant</th>\n",
       "      <th>Stir Rate</th>\n",
       "    </tr>\n",
       "  </thead>\n",
       "  <tbody>\n",
       "    <tr>\n",
       "      <th>0</th>\n",
       "      <td>8.0</td>\n",
       "      <td>17.0</td>\n",
       "      <td>0.1405</td>\n",
       "      <td>MRK001</td>\n",
       "      <td>Medium</td>\n",
       "    </tr>\n",
       "    <tr>\n",
       "      <th>1</th>\n",
       "      <td>12.0</td>\n",
       "      <td>143.0</td>\n",
       "      <td>0.1695</td>\n",
       "      <td>MRK003</td>\n",
       "      <td>Medium</td>\n",
       "    </tr>\n",
       "    <tr>\n",
       "      <th>2</th>\n",
       "      <td>4.0</td>\n",
       "      <td>101.0</td>\n",
       "      <td>0.2855</td>\n",
       "      <td>MRK002</td>\n",
       "      <td>High</td>\n",
       "    </tr>\n",
       "    <tr>\n",
       "      <th>3</th>\n",
       "      <td>28.0</td>\n",
       "      <td>87.0</td>\n",
       "      <td>0.1115</td>\n",
       "      <td>MRK002</td>\n",
       "      <td>Low</td>\n",
       "    </tr>\n",
       "    <tr>\n",
       "      <th>4</th>\n",
       "      <td>-4.0</td>\n",
       "      <td>115.0</td>\n",
       "      <td>0.2275</td>\n",
       "      <td>MRK001</td>\n",
       "      <td>Low</td>\n",
       "    </tr>\n",
       "    <tr>\n",
       "      <th>5</th>\n",
       "      <td>-8.0</td>\n",
       "      <td>73.0</td>\n",
       "      <td>0.0825</td>\n",
       "      <td>MRK002</td>\n",
       "      <td>Medium</td>\n",
       "    </tr>\n",
       "    <tr>\n",
       "      <th>6</th>\n",
       "      <td>20.0</td>\n",
       "      <td>129.0</td>\n",
       "      <td>0.0535</td>\n",
       "      <td>MRK001</td>\n",
       "      <td>High</td>\n",
       "    </tr>\n",
       "    <tr>\n",
       "      <th>7</th>\n",
       "      <td>24.0</td>\n",
       "      <td>31.0</td>\n",
       "      <td>0.2565</td>\n",
       "      <td>MRK002</td>\n",
       "      <td>Medium</td>\n",
       "    </tr>\n",
       "    <tr>\n",
       "      <th>8</th>\n",
       "      <td>16.0</td>\n",
       "      <td>59.0</td>\n",
       "      <td>0.1985</td>\n",
       "      <td>MRK003</td>\n",
       "      <td>High</td>\n",
       "    </tr>\n",
       "    <tr>\n",
       "      <th>9</th>\n",
       "      <td>0.0</td>\n",
       "      <td>45.0</td>\n",
       "      <td>0.0245</td>\n",
       "      <td>MRK003</td>\n",
       "      <td>Low</td>\n",
       "    </tr>\n",
       "  </tbody>\n",
       "</table>\n",
       "</div>"
      ],
      "text/plain": [
       "   Temperature  Concentration  Enzyme Variant Stir Rate\n",
       "0          8.0           17.0  0.1405  MRK001    Medium\n",
       "1         12.0          143.0  0.1695  MRK003    Medium\n",
       "2          4.0          101.0  0.2855  MRK002      High\n",
       "3         28.0           87.0  0.1115  MRK002       Low\n",
       "4         -4.0          115.0  0.2275  MRK001       Low\n",
       "5         -8.0           73.0  0.0825  MRK002    Medium\n",
       "6         20.0          129.0  0.0535  MRK001      High\n",
       "7         24.0           31.0  0.2565  MRK002    Medium\n",
       "8         16.0           59.0  0.1985  MRK003      High\n",
       "9          0.0           45.0  0.0245  MRK003       Low"
      ]
     },
     "execution_count": 4,
     "metadata": {},
     "output_type": "execute_result"
    }
   ],
   "source": [
    "params = [\n",
    "    Param_Continuous('Temperature', -10, 30),\n",
    "    Param_Continuous('Concentration', 10, 150),\n",
    "    Param_Continuous('Enzyme', 0.01, 0.30),\n",
    "    Param_Categorical('Variant', ['MRK001', 'MRK002', 'MRK003']),\n",
    "    Param_Ordinal('Stir Rate', ['Low', 'Medium', 'High']),\n",
    "    ]\n",
    "\n",
    "X_space = ParamSpace(params)\n",
    "target = Target('Yield', aim='max')\n",
    "campaign = Campaign(X_space, target, seed=0)\n",
    "X0 = campaign.designer.initialize(10, 'LHS')\n",
    "\n",
    "X0"
   ]
  },
  {
   "cell_type": "markdown",
   "metadata": {},
   "source": [
    "### Collect results (e.g. from a simulation)"
   ]
  },
  {
   "cell_type": "code",
   "execution_count": 5,
   "metadata": {},
   "outputs": [
    {
     "data": {
      "text/html": [
       "<div>\n",
       "<style scoped>\n",
       "    .dataframe tbody tr th:only-of-type {\n",
       "        vertical-align: middle;\n",
       "    }\n",
       "\n",
       "    .dataframe tbody tr th {\n",
       "        vertical-align: top;\n",
       "    }\n",
       "\n",
       "    .dataframe thead th {\n",
       "        text-align: right;\n",
       "    }\n",
       "</style>\n",
       "<table border=\"1\" class=\"dataframe\">\n",
       "  <thead>\n",
       "    <tr style=\"text-align: right;\">\n",
       "      <th></th>\n",
       "      <th>Temperature</th>\n",
       "      <th>Concentration</th>\n",
       "      <th>Enzyme</th>\n",
       "      <th>Variant</th>\n",
       "      <th>Stir Rate</th>\n",
       "      <th>Yield</th>\n",
       "    </tr>\n",
       "  </thead>\n",
       "  <tbody>\n",
       "    <tr>\n",
       "      <th>0</th>\n",
       "      <td>8.0</td>\n",
       "      <td>17.0</td>\n",
       "      <td>0.1405</td>\n",
       "      <td>MRK001</td>\n",
       "      <td>Medium</td>\n",
       "      <td>92.339807</td>\n",
       "    </tr>\n",
       "    <tr>\n",
       "      <th>1</th>\n",
       "      <td>12.0</td>\n",
       "      <td>143.0</td>\n",
       "      <td>0.1695</td>\n",
       "      <td>MRK003</td>\n",
       "      <td>Medium</td>\n",
       "      <td>44.280131</td>\n",
       "    </tr>\n",
       "    <tr>\n",
       "      <th>2</th>\n",
       "      <td>4.0</td>\n",
       "      <td>101.0</td>\n",
       "      <td>0.2855</td>\n",
       "      <td>MRK002</td>\n",
       "      <td>High</td>\n",
       "      <td>46.270422</td>\n",
       "    </tr>\n",
       "    <tr>\n",
       "      <th>3</th>\n",
       "      <td>28.0</td>\n",
       "      <td>87.0</td>\n",
       "      <td>0.1115</td>\n",
       "      <td>MRK002</td>\n",
       "      <td>Low</td>\n",
       "      <td>60.288919</td>\n",
       "    </tr>\n",
       "    <tr>\n",
       "      <th>4</th>\n",
       "      <td>-4.0</td>\n",
       "      <td>115.0</td>\n",
       "      <td>0.2275</td>\n",
       "      <td>MRK001</td>\n",
       "      <td>Low</td>\n",
       "      <td>63.082417</td>\n",
       "    </tr>\n",
       "    <tr>\n",
       "      <th>5</th>\n",
       "      <td>-8.0</td>\n",
       "      <td>73.0</td>\n",
       "      <td>0.0825</td>\n",
       "      <td>MRK002</td>\n",
       "      <td>Medium</td>\n",
       "      <td>86.196333</td>\n",
       "    </tr>\n",
       "    <tr>\n",
       "      <th>6</th>\n",
       "      <td>20.0</td>\n",
       "      <td>129.0</td>\n",
       "      <td>0.0535</td>\n",
       "      <td>MRK001</td>\n",
       "      <td>High</td>\n",
       "      <td>47.625034</td>\n",
       "    </tr>\n",
       "    <tr>\n",
       "      <th>7</th>\n",
       "      <td>24.0</td>\n",
       "      <td>31.0</td>\n",
       "      <td>0.2565</td>\n",
       "      <td>MRK002</td>\n",
       "      <td>Medium</td>\n",
       "      <td>48.966143</td>\n",
       "    </tr>\n",
       "    <tr>\n",
       "      <th>8</th>\n",
       "      <td>16.0</td>\n",
       "      <td>59.0</td>\n",
       "      <td>0.1985</td>\n",
       "      <td>MRK003</td>\n",
       "      <td>High</td>\n",
       "      <td>49.876574</td>\n",
       "    </tr>\n",
       "    <tr>\n",
       "      <th>9</th>\n",
       "      <td>0.0</td>\n",
       "      <td>45.0</td>\n",
       "      <td>0.0245</td>\n",
       "      <td>MRK003</td>\n",
       "      <td>Low</td>\n",
       "      <td>81.228810</td>\n",
       "    </tr>\n",
       "  </tbody>\n",
       "</table>\n",
       "</div>"
      ],
      "text/plain": [
       "   Temperature  Concentration  Enzyme Variant Stir Rate      Yield\n",
       "0          8.0           17.0  0.1405  MRK001    Medium  92.339807\n",
       "1         12.0          143.0  0.1695  MRK003    Medium  44.280131\n",
       "2          4.0          101.0  0.2855  MRK002      High  46.270422\n",
       "3         28.0           87.0  0.1115  MRK002       Low  60.288919\n",
       "4         -4.0          115.0  0.2275  MRK001       Low  63.082417\n",
       "5         -8.0           73.0  0.0825  MRK002    Medium  86.196333\n",
       "6         20.0          129.0  0.0535  MRK001      High  47.625034\n",
       "7         24.0           31.0  0.2565  MRK002    Medium  48.966143\n",
       "8         16.0           59.0  0.1985  MRK003      High  49.876574\n",
       "9          0.0           45.0  0.0245  MRK003       Low  81.228810"
      ]
     },
     "execution_count": 5,
     "metadata": {},
     "output_type": "execute_result"
    }
   ],
   "source": [
    "from obsidian.experiment import Simulator\n",
    "from obsidian.experiment.benchmark import shifted_parab\n",
    "\n",
    "simulator = Simulator(X_space, shifted_parab, name='Yield', eps=0.05)\n",
    "y0 = simulator.simulate(X0)\n",
    "Z0 = pd.concat([X0, y0], axis=1)\n",
    "\n",
    "Z0"
   ]
  },
  {
   "cell_type": "code",
   "execution_count": 6,
   "metadata": {},
   "outputs": [
    {
     "data": {
      "text/plain": [
       "<Axes: xlabel='Temperature', ylabel='Yield'>"
      ]
     },
     "execution_count": 6,
     "metadata": {},
     "output_type": "execute_result"
    },
    {
     "data": {
      "image/png": "[encoded data removed]",
      "text/plain": [
       "<Figure size 400x300 with 1 Axes>"
      ]
     },
     "metadata": {},
     "output_type": "display_data"
    }
   ],
   "source": [
    "Z0.plot(x='Temperature', y='Yield', kind='scatter', figsize=(4,3))"
   ]
  },
  {
   "cell_type": "markdown",
   "metadata": {},
   "source": [
    "### Create a campaign to track optimization"
   ]
  },
  {
   "cell_type": "markdown",
   "metadata": {},
   "source": [
    "### Fit the optimizer"
   ]
  },
  {
   "cell_type": "code",
   "execution_count": 7,
   "metadata": {},
   "outputs": [
    {
     "data": {
      "text/html": [
       "<div>\n",
       "<style scoped>\n",
       "    .dataframe tbody tr th:only-of-type {\n",
       "        vertical-align: middle;\n",
       "    }\n",
       "\n",
       "    .dataframe tbody tr th {\n",
       "        vertical-align: top;\n",
       "    }\n",
       "\n",
       "    .dataframe thead th {\n",
       "        text-align: right;\n",
       "    }\n",
       "</style>\n",
       "<table border=\"1\" class=\"dataframe\">\n",
       "  <thead>\n",
       "    <tr style=\"text-align: right;\">\n",
       "      <th></th>\n",
       "      <th>Temperature</th>\n",
       "      <th>Concentration</th>\n",
       "      <th>Enzyme</th>\n",
       "      <th>Variant</th>\n",
       "      <th>Stir Rate</th>\n",
       "      <th>Yield</th>\n",
       "      <th>Iteration</th>\n",
       "    </tr>\n",
       "    <tr>\n",
       "      <th>Observation ID</th>\n",
       "      <th></th>\n",
       "      <th></th>\n",
       "      <th></th>\n",
       "      <th></th>\n",
       "      <th></th>\n",
       "      <th></th>\n",
       "      <th></th>\n",
       "    </tr>\n",
       "  </thead>\n",
       "  <tbody>\n",
       "    <tr>\n",
       "      <th>5</th>\n",
       "      <td>-8.0</td>\n",
       "      <td>73.0</td>\n",
       "      <td>0.0825</td>\n",
       "      <td>MRK002</td>\n",
       "      <td>Medium</td>\n",
       "      <td>86.196333</td>\n",
       "      <td>0</td>\n",
       "    </tr>\n",
       "    <tr>\n",
       "      <th>2</th>\n",
       "      <td>4.0</td>\n",
       "      <td>101.0</td>\n",
       "      <td>0.2855</td>\n",
       "      <td>MRK002</td>\n",
       "      <td>High</td>\n",
       "      <td>46.270422</td>\n",
       "      <td>0</td>\n",
       "    </tr>\n",
       "    <tr>\n",
       "      <th>3</th>\n",
       "      <td>28.0</td>\n",
       "      <td>87.0</td>\n",
       "      <td>0.1115</td>\n",
       "      <td>MRK002</td>\n",
       "      <td>Low</td>\n",
       "      <td>60.288919</td>\n",
       "      <td>0</td>\n",
       "    </tr>\n",
       "    <tr>\n",
       "      <th>4</th>\n",
       "      <td>-4.0</td>\n",
       "      <td>115.0</td>\n",
       "      <td>0.2275</td>\n",
       "      <td>MRK001</td>\n",
       "      <td>Low</td>\n",
       "      <td>63.082417</td>\n",
       "      <td>0</td>\n",
       "    </tr>\n",
       "    <tr>\n",
       "      <th>1</th>\n",
       "      <td>12.0</td>\n",
       "      <td>143.0</td>\n",
       "      <td>0.1695</td>\n",
       "      <td>MRK003</td>\n",
       "      <td>Medium</td>\n",
       "      <td>44.280131</td>\n",
       "      <td>0</td>\n",
       "    </tr>\n",
       "  </tbody>\n",
       "</table>\n",
       "</div>"
      ],
      "text/plain": [
       "                Temperature  Concentration  Enzyme Variant Stir Rate  \\\n",
       "Observation ID                                                         \n",
       "5                      -8.0           73.0  0.0825  MRK002    Medium   \n",
       "2                       4.0          101.0  0.2855  MRK002      High   \n",
       "3                      28.0           87.0  0.1115  MRK002       Low   \n",
       "4                      -4.0          115.0  0.2275  MRK001       Low   \n",
       "1                      12.0          143.0  0.1695  MRK003    Medium   \n",
       "\n",
       "                    Yield  Iteration  \n",
       "Observation ID                        \n",
       "5               86.196333          0  \n",
       "2               46.270422          0  \n",
       "3               60.288919          0  \n",
       "4               63.082417          0  \n",
       "1               44.280131          0  "
      ]
     },
     "execution_count": 7,
     "metadata": {},
     "output_type": "execute_result"
    }
   ],
   "source": [
    "campaign.add_data(Z0)\n",
    "campaign.data.sample(5)"
   ]
  },
  {
   "cell_type": "code",
   "execution_count": 8,
   "metadata": {},
   "outputs": [
    {
     "name": "stdout",
     "output_type": "stream",
     "text": [
      "GP model has been fit                       to data with a train-score of: 1 for response: Yield\n"
     ]
    }
   ],
   "source": [
    "campaign.fit()"
   ]
  },
  {
   "cell_type": "markdown",
   "metadata": {},
   "source": [
    "### Make new experiment suggestions"
   ]
  },
  {
   "cell_type": "code",
   "execution_count": 9,
   "metadata": {},
   "outputs": [],
   "source": [
    "X_suggest, eval_suggest = campaign.optimizer.suggest(m_batch=3)"
   ]
  },
  {
   "cell_type": "code",
   "execution_count": 10,
   "metadata": {},
   "outputs": [
    {
     "data": {
      "text/html": [
       "<div>\n",
       "<style scoped>\n",
       "    .dataframe tbody tr th:only-of-type {\n",
       "        vertical-align: middle;\n",
       "    }\n",
       "\n",
       "    .dataframe tbody tr th {\n",
       "        vertical-align: top;\n",
       "    }\n",
       "\n",
       "    .dataframe thead th {\n",
       "        text-align: right;\n",
       "    }\n",
       "</style>\n",
       "<table border=\"1\" class=\"dataframe\">\n",
       "  <thead>\n",
       "    <tr style=\"text-align: right;\">\n",
       "      <th></th>\n",
       "      <th>Temperature</th>\n",
       "      <th>Concentration</th>\n",
       "      <th>Enzyme</th>\n",
       "      <th>Variant</th>\n",
       "      <th>Stir Rate</th>\n",
       "      <th>Yield (pred)</th>\n",
       "      <th>Yield lb</th>\n",
       "      <th>Yield ub</th>\n",
       "      <th>f(Yield)</th>\n",
       "      <th>aq Value</th>\n",
       "      <th>aq Value (joint)</th>\n",
       "      <th>aq Method</th>\n",
       "    </tr>\n",
       "  </thead>\n",
       "  <tbody>\n",
       "    <tr>\n",
       "      <th>0</th>\n",
       "      <td>-10.000000</td>\n",
       "      <td>10.0</td>\n",
       "      <td>0.131014</td>\n",
       "      <td>MRK001</td>\n",
       "      <td>Low</td>\n",
       "      <td>104.655575</td>\n",
       "      <td>97.694464</td>\n",
       "      <td>111.616687</td>\n",
       "      <td>2.349349</td>\n",
       "      <td>-0.380345</td>\n",
       "      <td>-0.292665</td>\n",
       "      <td>NEI</td>\n",
       "    </tr>\n",
       "    <tr>\n",
       "      <th>1</th>\n",
       "      <td>-10.000000</td>\n",
       "      <td>10.0</td>\n",
       "      <td>0.135985</td>\n",
       "      <td>MRK001</td>\n",
       "      <td>High</td>\n",
       "      <td>101.870533</td>\n",
       "      <td>94.441592</td>\n",
       "      <td>109.299474</td>\n",
       "      <td>2.195901</td>\n",
       "      <td>-0.612096</td>\n",
       "      <td>-0.292665</td>\n",
       "      <td>NEI</td>\n",
       "    </tr>\n",
       "    <tr>\n",
       "      <th>2</th>\n",
       "      <td>-1.227879</td>\n",
       "      <td>10.0</td>\n",
       "      <td>0.114474</td>\n",
       "      <td>MRK002</td>\n",
       "      <td>Low</td>\n",
       "      <td>101.243266</td>\n",
       "      <td>97.004850</td>\n",
       "      <td>105.481684</td>\n",
       "      <td>2.161341</td>\n",
       "      <td>-0.709565</td>\n",
       "      <td>-0.292665</td>\n",
       "      <td>NEI</td>\n",
       "    </tr>\n",
       "  </tbody>\n",
       "</table>\n",
       "</div>"
      ],
      "text/plain": [
       "   Temperature  Concentration    Enzyme Variant Stir Rate  Yield (pred)  \\\n",
       "0   -10.000000           10.0  0.131014  MRK001       Low    104.655575   \n",
       "1   -10.000000           10.0  0.135985  MRK001      High    101.870533   \n",
       "2    -1.227879           10.0  0.114474  MRK002       Low    101.243266   \n",
       "\n",
       "    Yield lb    Yield ub  f(Yield)  aq Value  aq Value (joint) aq Method  \n",
       "0  97.694464  111.616687  2.349349 -0.380345         -0.292665       NEI  \n",
       "1  94.441592  109.299474  2.195901 -0.612096         -0.292665       NEI  \n",
       "2  97.004850  105.481684  2.161341 -0.709565         -0.292665       NEI  "
      ]
     },
     "execution_count": 10,
     "metadata": {},
     "output_type": "execute_result"
    }
   ],
   "source": [
    "df_suggest = pd.concat([X_suggest, eval_suggest], axis=1)\n",
    "df_suggest"
   ]
  },
  {
   "cell_type": "markdown",
   "metadata": {},
   "source": [
    "### Collect data at new suggestions"
   ]
  },
  {
   "cell_type": "code",
   "execution_count": 11,
   "metadata": {},
   "outputs": [],
   "source": [
    "y_iter1 = pd.DataFrame(simulator.simulate(X_suggest), columns = ['Yield'])\n",
    "Z_iter1 = pd.concat([X_suggest, y_iter1, eval_suggest], axis=1)\n",
    "campaign.add_data(Z_iter1)"
   ]
  },
  {
   "cell_type": "markdown",
   "metadata": {},
   "source": [
    "### Repeat as desired"
   ]
  },
  {
   "cell_type": "code",
   "execution_count": 12,
   "metadata": {},
   "outputs": [
    {
     "data": {
      "text/html": [
       "<div>\n",
       "<style scoped>\n",
       "    .dataframe tbody tr th:only-of-type {\n",
       "        vertical-align: middle;\n",
       "    }\n",
       "\n",
       "    .dataframe tbody tr th {\n",
       "        vertical-align: top;\n",
       "    }\n",
       "\n",
       "    .dataframe thead th {\n",
       "        text-align: right;\n",
       "    }\n",
       "</style>\n",
       "<table border=\"1\" class=\"dataframe\">\n",
       "  <thead>\n",
       "    <tr style=\"text-align: right;\">\n",
       "      <th></th>\n",
       "      <th>Temperature</th>\n",
       "      <th>Concentration</th>\n",
       "      <th>Enzyme</th>\n",
       "      <th>Variant</th>\n",
       "      <th>Stir Rate</th>\n",
       "      <th>Yield</th>\n",
       "      <th>Iteration</th>\n",
       "      <th>Yield (pred)</th>\n",
       "      <th>Yield lb</th>\n",
       "      <th>Yield ub</th>\n",
       "      <th>f(Yield)</th>\n",
       "      <th>aq Value</th>\n",
       "      <th>aq Value (joint)</th>\n",
       "      <th>aq Method</th>\n",
       "    </tr>\n",
       "    <tr>\n",
       "      <th>Observation ID</th>\n",
       "      <th></th>\n",
       "      <th></th>\n",
       "      <th></th>\n",
       "      <th></th>\n",
       "      <th></th>\n",
       "      <th></th>\n",
       "      <th></th>\n",
       "      <th></th>\n",
       "      <th></th>\n",
       "      <th></th>\n",
       "      <th></th>\n",
       "      <th></th>\n",
       "      <th></th>\n",
       "      <th></th>\n",
       "    </tr>\n",
       "  </thead>\n",
       "  <tbody>\n",
       "    <tr>\n",
       "      <th>8</th>\n",
       "      <td>16.000000</td>\n",
       "      <td>59.0</td>\n",
       "      <td>0.198500</td>\n",
       "      <td>MRK003</td>\n",
       "      <td>High</td>\n",
       "      <td>49.876574</td>\n",
       "      <td>0</td>\n",
       "      <td>NaN</td>\n",
       "      <td>NaN</td>\n",
       "      <td>NaN</td>\n",
       "      <td>NaN</td>\n",
       "      <td>NaN</td>\n",
       "      <td>NaN</td>\n",
       "      <td>NaN</td>\n",
       "    </tr>\n",
       "    <tr>\n",
       "      <th>9</th>\n",
       "      <td>0.000000</td>\n",
       "      <td>45.0</td>\n",
       "      <td>0.024500</td>\n",
       "      <td>MRK003</td>\n",
       "      <td>Low</td>\n",
       "      <td>81.228810</td>\n",
       "      <td>0</td>\n",
       "      <td>NaN</td>\n",
       "      <td>NaN</td>\n",
       "      <td>NaN</td>\n",
       "      <td>NaN</td>\n",
       "      <td>NaN</td>\n",
       "      <td>NaN</td>\n",
       "      <td>NaN</td>\n",
       "    </tr>\n",
       "    <tr>\n",
       "      <th>10</th>\n",
       "      <td>-10.000000</td>\n",
       "      <td>10.0</td>\n",
       "      <td>0.131014</td>\n",
       "      <td>MRK001</td>\n",
       "      <td>Low</td>\n",
       "      <td>92.196849</td>\n",
       "      <td>1</td>\n",
       "      <td>104.655575</td>\n",
       "      <td>97.694464</td>\n",
       "      <td>111.616687</td>\n",
       "      <td>2.349349</td>\n",
       "      <td>-0.380345</td>\n",
       "      <td>-0.292665</td>\n",
       "      <td>NEI</td>\n",
       "    </tr>\n",
       "    <tr>\n",
       "      <th>11</th>\n",
       "      <td>-10.000000</td>\n",
       "      <td>10.0</td>\n",
       "      <td>0.135985</td>\n",
       "      <td>MRK001</td>\n",
       "      <td>High</td>\n",
       "      <td>74.499468</td>\n",
       "      <td>1</td>\n",
       "      <td>101.870533</td>\n",
       "      <td>94.441592</td>\n",
       "      <td>109.299474</td>\n",
       "      <td>2.195901</td>\n",
       "      <td>-0.612096</td>\n",
       "      <td>-0.292665</td>\n",
       "      <td>NEI</td>\n",
       "    </tr>\n",
       "    <tr>\n",
       "      <th>12</th>\n",
       "      <td>-1.227879</td>\n",
       "      <td>10.0</td>\n",
       "      <td>0.114474</td>\n",
       "      <td>MRK002</td>\n",
       "      <td>Low</td>\n",
       "      <td>95.000467</td>\n",
       "      <td>1</td>\n",
       "      <td>101.243266</td>\n",
       "      <td>97.004850</td>\n",
       "      <td>105.481684</td>\n",
       "      <td>2.161341</td>\n",
       "      <td>-0.709565</td>\n",
       "      <td>-0.292665</td>\n",
       "      <td>NEI</td>\n",
       "    </tr>\n",
       "  </tbody>\n",
       "</table>\n",
       "</div>"
      ],
      "text/plain": [
       "                Temperature  Concentration    Enzyme Variant Stir Rate  \\\n",
       "Observation ID                                                           \n",
       "8                 16.000000           59.0  0.198500  MRK003      High   \n",
       "9                  0.000000           45.0  0.024500  MRK003       Low   \n",
       "10               -10.000000           10.0  0.131014  MRK001       Low   \n",
       "11               -10.000000           10.0  0.135985  MRK001      High   \n",
       "12                -1.227879           10.0  0.114474  MRK002       Low   \n",
       "\n",
       "                    Yield  Iteration  Yield (pred)   Yield lb    Yield ub  \\\n",
       "Observation ID                                                              \n",
       "8               49.876574          0           NaN        NaN         NaN   \n",
       "9               81.228810          0           NaN        NaN         NaN   \n",
       "10              92.196849          1    104.655575  97.694464  111.616687   \n",
       "11              74.499468          1    101.870533  94.441592  109.299474   \n",
       "12              95.000467          1    101.243266  97.004850  105.481684   \n",
       "\n",
       "                f(Yield)  aq Value  aq Value (joint) aq Method  \n",
       "Observation ID                                                  \n",
       "8                    NaN       NaN               NaN       NaN  \n",
       "9                    NaN       NaN               NaN       NaN  \n",
       "10              2.349349 -0.380345         -0.292665       NEI  \n",
       "11              2.195901 -0.612096         -0.292665       NEI  \n",
       "12              2.161341 -0.709565         -0.292665       NEI  "
      ]
     },
     "execution_count": 12,
     "metadata": {},
     "output_type": "execute_result"
    }
   ],
   "source": [
    "campaign.data.tail()"
   ]
  },
  {
   "cell_type": "code",
   "execution_count": 13,
   "metadata": {},
   "outputs": [
    {
     "name": "stdout",
     "output_type": "stream",
     "text": [
      "GP model has been fit                       to data with a train-score of: 1 for response: Yield\n",
      "GP model has been fit                       to data with a train-score of: 1 for response: Yield\n",
      "GP model has been fit                       to data with a train-score of: 1 for response: Yield\n"
     ]
    }
   ],
   "source": [
    "for iter in range(3):\n",
    "    campaign.fit()\n",
    "    X_suggest, eval_suggest = campaign.optimizer.suggest(m_batch=3)\n",
    "    y_iter = pd.DataFrame(simulator.simulate(X_suggest))\n",
    "    Z_iter = pd.concat([X_suggest, y_iter, eval_suggest], axis=1)\n",
    "    campaign.add_data(Z_iter)"
   ]
  },
  {
   "cell_type": "code",
   "execution_count": 14,
   "metadata": {},
   "outputs": [
    {
     "data": {
      "text/html": [
       "<div>\n",
       "<style scoped>\n",
       "    .dataframe tbody tr th:only-of-type {\n",
       "        vertical-align: middle;\n",
       "    }\n",
       "\n",
       "    .dataframe tbody tr th {\n",
       "        vertical-align: top;\n",
       "    }\n",
       "\n",
       "    .dataframe thead th {\n",
       "        text-align: right;\n",
       "    }\n",
       "</style>\n",
       "<table border=\"1\" class=\"dataframe\">\n",
       "  <thead>\n",
       "    <tr style=\"text-align: right;\">\n",
       "      <th></th>\n",
       "      <th>Temperature</th>\n",
       "      <th>Concentration</th>\n",
       "      <th>Enzyme</th>\n",
       "      <th>Variant</th>\n",
       "      <th>Stir Rate</th>\n",
       "      <th>Yield</th>\n",
       "      <th>Iteration</th>\n",
       "      <th>Yield (pred)</th>\n",
       "      <th>Yield lb</th>\n",
       "      <th>Yield ub</th>\n",
       "      <th>f(Yield)</th>\n",
       "      <th>aq Value</th>\n",
       "      <th>aq Value (joint)</th>\n",
       "      <th>aq Method</th>\n",
       "    </tr>\n",
       "    <tr>\n",
       "      <th>Observation ID</th>\n",
       "      <th></th>\n",
       "      <th></th>\n",
       "      <th></th>\n",
       "      <th></th>\n",
       "      <th></th>\n",
       "      <th></th>\n",
       "      <th></th>\n",
       "      <th></th>\n",
       "      <th></th>\n",
       "      <th></th>\n",
       "      <th></th>\n",
       "      <th></th>\n",
       "      <th></th>\n",
       "      <th></th>\n",
       "    </tr>\n",
       "  </thead>\n",
       "  <tbody>\n",
       "    <tr>\n",
       "      <th>17</th>\n",
       "      <td>-7.141344</td>\n",
       "      <td>10.000000</td>\n",
       "      <td>0.082840</td>\n",
       "      <td>MRK001</td>\n",
       "      <td>Medium</td>\n",
       "      <td>92.892841</td>\n",
       "      <td>3</td>\n",
       "      <td>98.111419</td>\n",
       "      <td>95.274803</td>\n",
       "      <td>100.948035</td>\n",
       "      <td>1.227240</td>\n",
       "      <td>-3.570208</td>\n",
       "      <td>-2.547914</td>\n",
       "      <td>NEI</td>\n",
       "    </tr>\n",
       "    <tr>\n",
       "      <th>18</th>\n",
       "      <td>-5.935019</td>\n",
       "      <td>10.000000</td>\n",
       "      <td>0.134921</td>\n",
       "      <td>MRK001</td>\n",
       "      <td>Medium</td>\n",
       "      <td>92.238961</td>\n",
       "      <td>3</td>\n",
       "      <td>98.842943</td>\n",
       "      <td>95.778146</td>\n",
       "      <td>101.907742</td>\n",
       "      <td>1.262650</td>\n",
       "      <td>-3.088293</td>\n",
       "      <td>-2.547914</td>\n",
       "      <td>NEI</td>\n",
       "    </tr>\n",
       "    <tr>\n",
       "      <th>19</th>\n",
       "      <td>0.610597</td>\n",
       "      <td>10.000000</td>\n",
       "      <td>0.102237</td>\n",
       "      <td>MRK002</td>\n",
       "      <td>Medium</td>\n",
       "      <td>100.957040</td>\n",
       "      <td>4</td>\n",
       "      <td>102.183778</td>\n",
       "      <td>101.271680</td>\n",
       "      <td>103.095877</td>\n",
       "      <td>1.253119</td>\n",
       "      <td>-2.245755</td>\n",
       "      <td>-2.045912</td>\n",
       "      <td>NEI</td>\n",
       "    </tr>\n",
       "    <tr>\n",
       "      <th>20</th>\n",
       "      <td>0.177355</td>\n",
       "      <td>10.000000</td>\n",
       "      <td>0.010000</td>\n",
       "      <td>MRK002</td>\n",
       "      <td>Medium</td>\n",
       "      <td>92.773927</td>\n",
       "      <td>4</td>\n",
       "      <td>95.668112</td>\n",
       "      <td>89.993270</td>\n",
       "      <td>101.342956</td>\n",
       "      <td>0.937954</td>\n",
       "      <td>-3.426519</td>\n",
       "      <td>-2.045912</td>\n",
       "      <td>NEI</td>\n",
       "    </tr>\n",
       "    <tr>\n",
       "      <th>21</th>\n",
       "      <td>0.509228</td>\n",
       "      <td>22.560394</td>\n",
       "      <td>0.100301</td>\n",
       "      <td>MRK002</td>\n",
       "      <td>Medium</td>\n",
       "      <td>99.653614</td>\n",
       "      <td>4</td>\n",
       "      <td>101.767473</td>\n",
       "      <td>100.439377</td>\n",
       "      <td>103.095569</td>\n",
       "      <td>1.232982</td>\n",
       "      <td>-2.430293</td>\n",
       "      <td>-2.045912</td>\n",
       "      <td>NEI</td>\n",
       "    </tr>\n",
       "  </tbody>\n",
       "</table>\n",
       "</div>"
      ],
      "text/plain": [
       "                Temperature  Concentration    Enzyme Variant Stir Rate  \\\n",
       "Observation ID                                                           \n",
       "17                -7.141344      10.000000  0.082840  MRK001    Medium   \n",
       "18                -5.935019      10.000000  0.134921  MRK001    Medium   \n",
       "19                 0.610597      10.000000  0.102237  MRK002    Medium   \n",
       "20                 0.177355      10.000000  0.010000  MRK002    Medium   \n",
       "21                 0.509228      22.560394  0.100301  MRK002    Medium   \n",
       "\n",
       "                     Yield  Iteration  Yield (pred)    Yield lb    Yield ub  \\\n",
       "Observation ID                                                                \n",
       "17               92.892841          3     98.111419   95.274803  100.948035   \n",
       "18               92.238961          3     98.842943   95.778146  101.907742   \n",
       "19              100.957040          4    102.183778  101.271680  103.095877   \n",
       "20               92.773927          4     95.668112   89.993270  101.342956   \n",
       "21               99.653614          4    101.767473  100.439377  103.095569   \n",
       "\n",
       "                f(Yield)  aq Value  aq Value (joint) aq Method  \n",
       "Observation ID                                                  \n",
       "17              1.227240 -3.570208         -2.547914       NEI  \n",
       "18              1.262650 -3.088293         -2.547914       NEI  \n",
       "19              1.253119 -2.245755         -2.045912       NEI  \n",
       "20              0.937954 -3.426519         -2.045912       NEI  \n",
       "21              1.232982 -2.430293         -2.045912       NEI  "
      ]
     },
     "execution_count": 14,
     "metadata": {},
     "output_type": "execute_result"
    }
   ],
   "source": [
    "campaign.data.tail()"
   ]
  },
  {
   "cell_type": "code",
   "execution_count": 15,
   "metadata": {},
   "outputs": [
    {
     "data": {
      "application/vnd.plotly.v1+json": {
       "config": {
        "plotlyServerURL": "https://plot.ly"
       },
       "data": [
        {
         "hovertemplate": "Observation ID=%{x}<br>Yield=%{y}<br>aq Value=%{marker.color}<extra></extra>",
         "legendgroup": "",
         "marker": {
          "color": [
           null,
           null,
           null,
           null,
           null,
           null,
           null,
           null,
           null,
           null,
           -0.38034538065202295,
           -0.6120958124027052,
           -0.7095649136708557,
           -2.05692078994696,
           -3.1516288285054745,
           -2.473037637673595,
           -2.798014989204011,
           -3.57020802379168,
           -3.088292727987067,
           -2.245755141023286,
           -3.426519149943271,
           -2.4302932293385533
          ],
          "coloraxis": "coloraxis",
          "symbol": "circle"
         },
         "mode": "markers",
         "name": "",
         "orientation": "v",
         "showlegend": false,
         "type": "scatter",
         "x": [
          0,
          1,
          2,
          3,
          4,
          5,
          6,
          7,
          8,
          9,
          10,
          11,
          12,
          13,
          14,
          15,
          16,
          17,
          18,
          19,
          20,
          21
         ],
         "xaxis": "x",
         "y": [
          92.33980672490216,
          44.28013139056551,
          46.27042165792395,
          60.288918896712964,
          63.08241717950659,
          86.19633278740932,
          47.62503445818602,
          48.96614297388498,
          49.87657408385417,
          81.22881027324594,
          92.19684872892208,
          74.49946768778311,
          95.0004674747163,
          99.35898338419939,
          91.60949770163496,
          91.31362421740042,
          99.99794882558741,
          92.89284062164445,
          92.23896061375875,
          100.95704001123406,
          92.7739266193329,
          99.65361433177773
         ],
         "yaxis": "y"
        }
       ],
       "layout": {
        "coloraxis": {
         "colorbar": {
          "title": {
           "text": "aq Value"
          }
         },
         "colorscale": [
          [
           0,
           "#0d0887"
          ],
          [
           0.1111111111111111,
           "#46039f"
          ],
          [
           0.2222222222222222,
           "#7201a8"
          ],
          [
           0.3333333333333333,
           "#9c179e"
          ],
          [
           0.4444444444444444,
           "#bd3786"
          ],
          [
           0.5555555555555556,
           "#d8576b"
          ],
          [
           0.6666666666666666,
           "#ed7953"
          ],
          [
           0.7777777777777778,
           "#fb9f3a"
          ],
          [
           0.8888888888888888,
           "#fdca26"
          ],
          [
           1,
           "#f0f921"
          ]
         ]
        },
        "height": 300,
        "legend": {
         "tracegroupgap": 0
        },
        "margin": {
         "t": 60
        },
        "template": {
         "data": {
          "bar": [
           {
            "error_x": {
             "color": "rgb(51,51,51)"
            },
            "error_y": {
             "color": "rgb(51,51,51)"
            },
            "marker": {
             "line": {
              "color": "rgb(237,237,237)",
              "width": 0.5
             },
             "pattern": {
              "fillmode": "overlay",
              "size": 10,
              "solidity": 0.2
             }
            },
            "type": "bar"
           }
          ],
          "barpolar": [
           {
            "marker": {
             "line": {
              "color": "rgb(237,237,237)",
              "width": 0.5
             },
             "pattern": {
              "fillmode": "overlay",
              "size": 10,
              "solidity": 0.2
             }
            },
            "type": "barpolar"
           }
          ],
          "carpet": [
           {
            "aaxis": {
             "endlinecolor": "rgb(51,51,51)",
             "gridcolor": "white",
             "linecolor": "white",
             "minorgridcolor": "white",
             "startlinecolor": "rgb(51,51,51)"
            },
            "baxis": {
             "endlinecolor": "rgb(51,51,51)",
             "gridcolor": "white",
             "linecolor": "white",
             "minorgridcolor": "white",
             "startlinecolor": "rgb(51,51,51)"
            },
            "type": "carpet"
           }
          ],
          "choropleth": [
           {
            "colorbar": {
             "outlinewidth": 0,
             "tickcolor": "rgb(237,237,237)",
             "ticklen": 6,
             "ticks": "inside"
            },
            "type": "choropleth"
           }
          ],
          "contour": [
           {
            "colorbar": {
             "outlinewidth": 0,
             "tickcolor": "rgb(237,237,237)",
             "ticklen": 6,
             "ticks": "inside"
            },
            "colorscale": [
             [
              0,
              "rgb(20,44,66)"
             ],
             [
              1,
              "rgb(90,179,244)"
             ]
            ],
            "type": "contour"
           }
          ],
          "contourcarpet": [
           {
            "colorbar": {
             "outlinewidth": 0,
             "tickcolor": "rgb(237,237,237)",
             "ticklen": 6,
             "ticks": "inside"
            },
            "type": "contourcarpet"
           }
          ],
          "heatmap": [
           {
            "colorbar": {
             "outlinewidth": 0,
             "tickcolor": "rgb(237,237,237)",
             "ticklen": 6,
             "ticks": "inside"
            },
            "colorscale": [
             [
              0,
              "rgb(20,44,66)"
             ],
             [
              1,
              "rgb(90,179,244)"
             ]
            ],
            "type": "heatmap"
           }
          ],
          "heatmapgl": [
           {
            "colorbar": {
             "outlinewidth": 0,
             "tickcolor": "rgb(237,237,237)",
             "ticklen": 6,
             "ticks": "inside"
            },
            "colorscale": [
             [
              0,
              "rgb(20,44,66)"
             ],
             [
              1,
              "rgb(90,179,244)"
             ]
            ],
            "type": "heatmapgl"
           }
          ],
          "histogram": [
           {
            "marker": {
             "pattern": {
              "fillmode": "overlay",
              "size": 10,
              "solidity": 0.2
             }
            },
            "type": "histogram"
           }
          ],
          "histogram2d": [
           {
            "colorbar": {
             "outlinewidth": 0,
             "tickcolor": "rgb(237,237,237)",
             "ticklen": 6,
             "ticks": "inside"
            },
            "colorscale": [
             [
              0,
              "rgb(20,44,66)"
             ],
             [
              1,
              "rgb(90,179,244)"
             ]
            ],
            "type": "histogram2d"
           }
          ],
          "histogram2dcontour": [
           {
            "colorbar": {
             "outlinewidth": 0,
             "tickcolor": "rgb(237,237,237)",
             "ticklen": 6,
             "ticks": "inside"
            },
            "colorscale": [
             [
              0,
              "rgb(20,44,66)"
             ],
             [
              1,
              "rgb(90,179,244)"
             ]
            ],
            "type": "histogram2dcontour"
           }
          ],
          "mesh3d": [
           {
            "colorbar": {
             "outlinewidth": 0,
             "tickcolor": "rgb(237,237,237)",
             "ticklen": 6,
             "ticks": "inside"
            },
            "type": "mesh3d"
           }
          ],
          "parcoords": [
           {
            "line": {
             "colorbar": {
              "outlinewidth": 0,
              "tickcolor": "rgb(237,237,237)",
              "ticklen": 6,
              "ticks": "inside"
             }
            },
            "type": "parcoords"
           }
          ],
          "pie": [
           {
            "automargin": true,
            "type": "pie"
           }
          ],
          "scatter": [
           {
            "fillpattern": {
             "fillmode": "overlay",
             "size": 10,
             "solidity": 0.2
            },
            "type": "scatter"
           }
          ],
          "scatter3d": [
           {
            "line": {
             "colorbar": {
              "outlinewidth": 0,
              "tickcolor": "rgb(237,237,237)",
              "ticklen": 6,
              "ticks": "inside"
             }
            },
            "marker": {
             "colorbar": {
              "outlinewidth": 0,
              "tickcolor": "rgb(237,237,237)",
              "ticklen": 6,
              "ticks": "inside"
             }
            },
            "type": "scatter3d"
           }
          ],
          "scattercarpet": [
           {
            "marker": {
             "colorbar": {
              "outlinewidth": 0,
              "tickcolor": "rgb(237,237,237)",
              "ticklen": 6,
              "ticks": "inside"
             }
            },
            "type": "scattercarpet"
           }
          ],
          "scattergeo": [
           {
            "marker": {
             "colorbar": {
              "outlinewidth": 0,
              "tickcolor": "rgb(237,237,237)",
              "ticklen": 6,
              "ticks": "inside"
             }
            },
            "type": "scattergeo"
           }
          ],
          "scattergl": [
           {
            "marker": {
             "colorbar": {
              "outlinewidth": 0,
              "tickcolor": "rgb(237,237,237)",
              "ticklen": 6,
              "ticks": "inside"
             }
            },
            "type": "scattergl"
           }
          ],
          "scattermapbox": [
           {
            "marker": {
             "colorbar": {
              "outlinewidth": 0,
              "tickcolor": "rgb(237,237,237)",
              "ticklen": 6,
              "ticks": "inside"
             }
            },
            "type": "scattermapbox"
           }
          ],
          "scatterpolar": [
           {
            "marker": {
             "colorbar": {
              "outlinewidth": 0,
              "tickcolor": "rgb(237,237,237)",
              "ticklen": 6,
              "ticks": "inside"
             }
            },
            "type": "scatterpolar"
           }
          ],
          "scatterpolargl": [
           {
            "marker": {
             "colorbar": {
              "outlinewidth": 0,
              "tickcolor": "rgb(237,237,237)",
              "ticklen": 6,
              "ticks": "inside"
             }
            },
            "type": "scatterpolargl"
           }
          ],
          "scatterternary": [
           {
            "marker": {
             "colorbar": {
              "outlinewidth": 0,
              "tickcolor": "rgb(237,237,237)",
              "ticklen": 6,
              "ticks": "inside"
             }
            },
            "type": "scatterternary"
           }
          ],
          "surface": [
           {
            "colorbar": {
             "outlinewidth": 0,
             "tickcolor": "rgb(237,237,237)",
             "ticklen": 6,
             "ticks": "inside"
            },
            "colorscale": [
             [
              0,
              "rgb(20,44,66)"
             ],
             [
              1,
              "rgb(90,179,244)"
             ]
            ],
            "type": "surface"
           }
          ],
          "table": [
           {
            "cells": {
             "fill": {
              "color": "rgb(237,237,237)"
             },
             "line": {
              "color": "white"
             }
            },
            "header": {
             "fill": {
              "color": "rgb(217,217,217)"
             },
             "line": {
              "color": "white"
             }
            },
            "type": "table"
           }
          ]
         },
         "layout": {
          "annotationdefaults": {
           "arrowhead": 0,
           "arrowwidth": 1
          },
          "autotypenumbers": "strict",
          "coloraxis": {
           "colorbar": {
            "outlinewidth": 0,
            "tickcolor": "rgb(237,237,237)",
            "ticklen": 6,
            "ticks": "inside"
           }
          },
          "colorscale": {
           "sequential": [
            [
             0,
             "rgb(20,44,66)"
            ],
            [
             1,
             "rgb(90,179,244)"
            ]
           ],
           "sequentialminus": [
            [
             0,
             "rgb(20,44,66)"
            ],
            [
             1,
             "rgb(90,179,244)"
            ]
           ]
          },
          "colorway": [
           "#F8766D",
           "#A3A500",
           "#00BF7D",
           "#00B0F6",
           "#E76BF3"
          ],
          "font": {
           "color": "rgb(51,51,51)"
          },
          "geo": {
           "bgcolor": "white",
           "lakecolor": "white",
           "landcolor": "rgb(237,237,237)",
           "showlakes": true,
           "showland": true,
           "subunitcolor": "white"
          },
          "hoverlabel": {
           "align": "left"
          },
          "hovermode": "closest",
          "paper_bgcolor": "white",
          "plot_bgcolor": "rgb(237,237,237)",
          "polar": {
           "angularaxis": {
            "gridcolor": "white",
            "linecolor": "white",
            "showgrid": true,
            "tickcolor": "rgb(51,51,51)",
            "ticks": "outside"
           },
           "bgcolor": "rgb(237,237,237)",
           "radialaxis": {
            "gridcolor": "white",
            "linecolor": "white",
            "showgrid": true,
            "tickcolor": "rgb(51,51,51)",
            "ticks": "outside"
           }
          },
          "scene": {
           "xaxis": {
            "backgroundcolor": "rgb(237,237,237)",
            "gridcolor": "white",
            "gridwidth": 2,
            "linecolor": "white",
            "showbackground": true,
            "showgrid": true,
            "tickcolor": "rgb(51,51,51)",
            "ticks": "outside",
            "zerolinecolor": "white"
           },
           "yaxis": {
            "backgroundcolor": "rgb(237,237,237)",
            "gridcolor": "white",
            "gridwidth": 2,
            "linecolor": "white",
            "showbackground": true,
            "showgrid": true,
            "tickcolor": "rgb(51,51,51)",
            "ticks": "outside",
            "zerolinecolor": "white"
           },
           "zaxis": {
            "backgroundcolor": "rgb(237,237,237)",
            "gridcolor": "white",
            "gridwidth": 2,
            "linecolor": "white",
            "showbackground": true,
            "showgrid": true,
            "tickcolor": "rgb(51,51,51)",
            "ticks": "outside",
            "zerolinecolor": "white"
           }
          },
          "shapedefaults": {
           "fillcolor": "black",
           "line": {
            "width": 0
           },
           "opacity": 0.3
          },
          "ternary": {
           "aaxis": {
            "gridcolor": "white",
            "linecolor": "white",
            "showgrid": true,
            "tickcolor": "rgb(51,51,51)",
            "ticks": "outside"
           },
           "baxis": {
            "gridcolor": "white",
            "linecolor": "white",
            "showgrid": true,
            "tickcolor": "rgb(51,51,51)",
            "ticks": "outside"
           },
           "bgcolor": "rgb(237,237,237)",
           "caxis": {
            "gridcolor": "white",
            "linecolor": "white",
            "showgrid": true,
            "tickcolor": "rgb(51,51,51)",
            "ticks": "outside"
           }
          },
          "xaxis": {
           "automargin": true,
           "gridcolor": "white",
           "linecolor": "white",
           "showgrid": true,
           "tickcolor": "rgb(51,51,51)",
           "ticks": "outside",
           "title": {
            "standoff": 15
           },
           "zerolinecolor": "white"
          },
          "yaxis": {
           "automargin": true,
           "gridcolor": "white",
           "linecolor": "white",
           "showgrid": true,
           "tickcolor": "rgb(51,51,51)",
           "ticks": "outside",
           "title": {
            "standoff": 15
           },
           "zerolinecolor": "white"
          }
         }
        },
        "width": 400,
        "xaxis": {
         "anchor": "y",
         "domain": [
          0,
          1
         ],
         "title": {
          "text": "Observation ID"
         }
        },
        "yaxis": {
         "anchor": "x",
         "domain": [
          0,
          1
         ],
         "title": {
          "text": "Yield"
         }
        }
       }
      }
     },
     "metadata": {},
     "output_type": "display_data"
    }
   ],
   "source": [
    "fig = px.scatter(campaign.data, x=campaign.data.index, y='Yield', color='aq Value')\n",
    "fig.update_layout(height=300, width=400, template='ggplot2')"
   ]
  },
  {
   "cell_type": "code",
   "execution_count": 16,
   "metadata": {},
   "outputs": [
    {
     "data": {
      "text/html": [
       "<div>\n",
       "<style scoped>\n",
       "    .dataframe tbody tr th:only-of-type {\n",
       "        vertical-align: middle;\n",
       "    }\n",
       "\n",
       "    .dataframe tbody tr th {\n",
       "        vertical-align: top;\n",
       "    }\n",
       "\n",
       "    .dataframe thead th {\n",
       "        text-align: right;\n",
       "    }\n",
       "</style>\n",
       "<table border=\"1\" class=\"dataframe\">\n",
       "  <thead>\n",
       "    <tr style=\"text-align: right;\">\n",
       "      <th></th>\n",
       "      <th>Temperature</th>\n",
       "      <th>Concentration</th>\n",
       "      <th>Enzyme</th>\n",
       "      <th>Variant</th>\n",
       "      <th>Stir Rate</th>\n",
       "      <th>Yield</th>\n",
       "      <th>Iteration</th>\n",
       "      <th>Yield (pred)</th>\n",
       "      <th>Yield lb</th>\n",
       "      <th>Yield ub</th>\n",
       "      <th>f(Yield)</th>\n",
       "      <th>aq Value</th>\n",
       "      <th>aq Value (joint)</th>\n",
       "      <th>aq Method</th>\n",
       "    </tr>\n",
       "    <tr>\n",
       "      <th>Observation ID</th>\n",
       "      <th></th>\n",
       "      <th></th>\n",
       "      <th></th>\n",
       "      <th></th>\n",
       "      <th></th>\n",
       "      <th></th>\n",
       "      <th></th>\n",
       "      <th></th>\n",
       "      <th></th>\n",
       "      <th></th>\n",
       "      <th></th>\n",
       "      <th></th>\n",
       "      <th></th>\n",
       "      <th></th>\n",
       "    </tr>\n",
       "  </thead>\n",
       "  <tbody>\n",
       "    <tr>\n",
       "      <th>0</th>\n",
       "      <td>8.000000</td>\n",
       "      <td>17.000000</td>\n",
       "      <td>0.140500</td>\n",
       "      <td>MRK001</td>\n",
       "      <td>Medium</td>\n",
       "      <td>92.339807</td>\n",
       "      <td>0</td>\n",
       "      <td>NaN</td>\n",
       "      <td>NaN</td>\n",
       "      <td>NaN</td>\n",
       "      <td>NaN</td>\n",
       "      <td>NaN</td>\n",
       "      <td>NaN</td>\n",
       "      <td>NaN</td>\n",
       "    </tr>\n",
       "    <tr>\n",
       "      <th>1</th>\n",
       "      <td>12.000000</td>\n",
       "      <td>143.000000</td>\n",
       "      <td>0.169500</td>\n",
       "      <td>MRK003</td>\n",
       "      <td>Medium</td>\n",
       "      <td>44.280131</td>\n",
       "      <td>0</td>\n",
       "      <td>NaN</td>\n",
       "      <td>NaN</td>\n",
       "      <td>NaN</td>\n",
       "      <td>NaN</td>\n",
       "      <td>NaN</td>\n",
       "      <td>NaN</td>\n",
       "      <td>NaN</td>\n",
       "    </tr>\n",
       "    <tr>\n",
       "      <th>2</th>\n",
       "      <td>4.000000</td>\n",
       "      <td>101.000000</td>\n",
       "      <td>0.285500</td>\n",
       "      <td>MRK002</td>\n",
       "      <td>High</td>\n",
       "      <td>46.270422</td>\n",
       "      <td>0</td>\n",
       "      <td>NaN</td>\n",
       "      <td>NaN</td>\n",
       "      <td>NaN</td>\n",
       "      <td>NaN</td>\n",
       "      <td>NaN</td>\n",
       "      <td>NaN</td>\n",
       "      <td>NaN</td>\n",
       "    </tr>\n",
       "    <tr>\n",
       "      <th>3</th>\n",
       "      <td>28.000000</td>\n",
       "      <td>87.000000</td>\n",
       "      <td>0.111500</td>\n",
       "      <td>MRK002</td>\n",
       "      <td>Low</td>\n",
       "      <td>60.288919</td>\n",
       "      <td>0</td>\n",
       "      <td>NaN</td>\n",
       "      <td>NaN</td>\n",
       "      <td>NaN</td>\n",
       "      <td>NaN</td>\n",
       "      <td>NaN</td>\n",
       "      <td>NaN</td>\n",
       "      <td>NaN</td>\n",
       "    </tr>\n",
       "    <tr>\n",
       "      <th>4</th>\n",
       "      <td>-4.000000</td>\n",
       "      <td>115.000000</td>\n",
       "      <td>0.227500</td>\n",
       "      <td>MRK001</td>\n",
       "      <td>Low</td>\n",
       "      <td>63.082417</td>\n",
       "      <td>0</td>\n",
       "      <td>NaN</td>\n",
       "      <td>NaN</td>\n",
       "      <td>NaN</td>\n",
       "      <td>NaN</td>\n",
       "      <td>NaN</td>\n",
       "      <td>NaN</td>\n",
       "      <td>NaN</td>\n",
       "    </tr>\n",
       "    <tr>\n",
       "      <th>5</th>\n",
       "      <td>-8.000000</td>\n",
       "      <td>73.000000</td>\n",
       "      <td>0.082500</td>\n",
       "      <td>MRK002</td>\n",
       "      <td>Medium</td>\n",
       "      <td>86.196333</td>\n",
       "      <td>0</td>\n",
       "      <td>NaN</td>\n",
       "      <td>NaN</td>\n",
       "      <td>NaN</td>\n",
       "      <td>NaN</td>\n",
       "      <td>NaN</td>\n",
       "      <td>NaN</td>\n",
       "      <td>NaN</td>\n",
       "    </tr>\n",
       "    <tr>\n",
       "      <th>6</th>\n",
       "      <td>20.000000</td>\n",
       "      <td>129.000000</td>\n",
       "      <td>0.053500</td>\n",
       "      <td>MRK001</td>\n",
       "      <td>High</td>\n",
       "      <td>47.625034</td>\n",
       "      <td>0</td>\n",
       "      <td>NaN</td>\n",
       "      <td>NaN</td>\n",
       "      <td>NaN</td>\n",
       "      <td>NaN</td>\n",
       "      <td>NaN</td>\n",
       "      <td>NaN</td>\n",
       "      <td>NaN</td>\n",
       "    </tr>\n",
       "    <tr>\n",
       "      <th>7</th>\n",
       "      <td>24.000000</td>\n",
       "      <td>31.000000</td>\n",
       "      <td>0.256500</td>\n",
       "      <td>MRK002</td>\n",
       "      <td>Medium</td>\n",
       "      <td>48.966143</td>\n",
       "      <td>0</td>\n",
       "      <td>NaN</td>\n",
       "      <td>NaN</td>\n",
       "      <td>NaN</td>\n",
       "      <td>NaN</td>\n",
       "      <td>NaN</td>\n",
       "      <td>NaN</td>\n",
       "      <td>NaN</td>\n",
       "    </tr>\n",
       "    <tr>\n",
       "      <th>8</th>\n",
       "      <td>16.000000</td>\n",
       "      <td>59.000000</td>\n",
       "      <td>0.198500</td>\n",
       "      <td>MRK003</td>\n",
       "      <td>High</td>\n",
       "      <td>49.876574</td>\n",
       "      <td>0</td>\n",
       "      <td>NaN</td>\n",
       "      <td>NaN</td>\n",
       "      <td>NaN</td>\n",
       "      <td>NaN</td>\n",
       "      <td>NaN</td>\n",
       "      <td>NaN</td>\n",
       "      <td>NaN</td>\n",
       "    </tr>\n",
       "    <tr>\n",
       "      <th>9</th>\n",
       "      <td>0.000000</td>\n",
       "      <td>45.000000</td>\n",
       "      <td>0.024500</td>\n",
       "      <td>MRK003</td>\n",
       "      <td>Low</td>\n",
       "      <td>81.228810</td>\n",
       "      <td>0</td>\n",
       "      <td>NaN</td>\n",
       "      <td>NaN</td>\n",
       "      <td>NaN</td>\n",
       "      <td>NaN</td>\n",
       "      <td>NaN</td>\n",
       "      <td>NaN</td>\n",
       "      <td>NaN</td>\n",
       "    </tr>\n",
       "    <tr>\n",
       "      <th>10</th>\n",
       "      <td>-10.000000</td>\n",
       "      <td>10.000000</td>\n",
       "      <td>0.131014</td>\n",
       "      <td>MRK001</td>\n",
       "      <td>Low</td>\n",
       "      <td>92.196849</td>\n",
       "      <td>1</td>\n",
       "      <td>104.655575</td>\n",
       "      <td>97.694464</td>\n",
       "      <td>111.616687</td>\n",
       "      <td>2.349349</td>\n",
       "      <td>-0.380345</td>\n",
       "      <td>-0.292665</td>\n",
       "      <td>NEI</td>\n",
       "    </tr>\n",
       "    <tr>\n",
       "      <th>11</th>\n",
       "      <td>-10.000000</td>\n",
       "      <td>10.000000</td>\n",
       "      <td>0.135985</td>\n",
       "      <td>MRK001</td>\n",
       "      <td>High</td>\n",
       "      <td>74.499468</td>\n",
       "      <td>1</td>\n",
       "      <td>101.870533</td>\n",
       "      <td>94.441592</td>\n",
       "      <td>109.299474</td>\n",
       "      <td>2.195901</td>\n",
       "      <td>-0.612096</td>\n",
       "      <td>-0.292665</td>\n",
       "      <td>NEI</td>\n",
       "    </tr>\n",
       "    <tr>\n",
       "      <th>12</th>\n",
       "      <td>-1.227879</td>\n",
       "      <td>10.000000</td>\n",
       "      <td>0.114474</td>\n",
       "      <td>MRK002</td>\n",
       "      <td>Low</td>\n",
       "      <td>95.000467</td>\n",
       "      <td>1</td>\n",
       "      <td>101.243266</td>\n",
       "      <td>97.004850</td>\n",
       "      <td>105.481684</td>\n",
       "      <td>2.161341</td>\n",
       "      <td>-0.709565</td>\n",
       "      <td>-0.292665</td>\n",
       "      <td>NEI</td>\n",
       "    </tr>\n",
       "    <tr>\n",
       "      <th>13</th>\n",
       "      <td>0.959288</td>\n",
       "      <td>10.000000</td>\n",
       "      <td>0.097640</td>\n",
       "      <td>MRK001</td>\n",
       "      <td>Medium</td>\n",
       "      <td>99.358983</td>\n",
       "      <td>2</td>\n",
       "      <td>96.085100</td>\n",
       "      <td>91.064223</td>\n",
       "      <td>101.105978</td>\n",
       "      <td>1.430625</td>\n",
       "      <td>-2.056921</td>\n",
       "      <td>-1.718530</td>\n",
       "      <td>NEI</td>\n",
       "    </tr>\n",
       "    <tr>\n",
       "      <th>14</th>\n",
       "      <td>-0.218806</td>\n",
       "      <td>30.249728</td>\n",
       "      <td>0.132364</td>\n",
       "      <td>MRK001</td>\n",
       "      <td>Low</td>\n",
       "      <td>91.609498</td>\n",
       "      <td>2</td>\n",
       "      <td>93.406619</td>\n",
       "      <td>89.487201</td>\n",
       "      <td>97.326037</td>\n",
       "      <td>1.294984</td>\n",
       "      <td>-3.151629</td>\n",
       "      <td>-1.718530</td>\n",
       "      <td>NEI</td>\n",
       "    </tr>\n",
       "    <tr>\n",
       "      <th>15</th>\n",
       "      <td>8.886605</td>\n",
       "      <td>10.000000</td>\n",
       "      <td>0.079072</td>\n",
       "      <td>MRK001</td>\n",
       "      <td>Medium</td>\n",
       "      <td>91.313624</td>\n",
       "      <td>2</td>\n",
       "      <td>92.856229</td>\n",
       "      <td>86.112203</td>\n",
       "      <td>99.600256</td>\n",
       "      <td>1.267112</td>\n",
       "      <td>-2.473038</td>\n",
       "      <td>-1.718530</td>\n",
       "      <td>NEI</td>\n",
       "    </tr>\n",
       "    <tr>\n",
       "      <th>16</th>\n",
       "      <td>-3.117858</td>\n",
       "      <td>10.000000</td>\n",
       "      <td>0.117681</td>\n",
       "      <td>MRK002</td>\n",
       "      <td>Medium</td>\n",
       "      <td>99.997949</td>\n",
       "      <td>3</td>\n",
       "      <td>100.371375</td>\n",
       "      <td>98.746583</td>\n",
       "      <td>101.996166</td>\n",
       "      <td>1.336635</td>\n",
       "      <td>-2.798015</td>\n",
       "      <td>-2.547914</td>\n",
       "      <td>NEI</td>\n",
       "    </tr>\n",
       "    <tr>\n",
       "      <th>17</th>\n",
       "      <td>-7.141344</td>\n",
       "      <td>10.000000</td>\n",
       "      <td>0.082840</td>\n",
       "      <td>MRK001</td>\n",
       "      <td>Medium</td>\n",
       "      <td>92.892841</td>\n",
       "      <td>3</td>\n",
       "      <td>98.111419</td>\n",
       "      <td>95.274803</td>\n",
       "      <td>100.948035</td>\n",
       "      <td>1.227240</td>\n",
       "      <td>-3.570208</td>\n",
       "      <td>-2.547914</td>\n",
       "      <td>NEI</td>\n",
       "    </tr>\n",
       "    <tr>\n",
       "      <th>18</th>\n",
       "      <td>-5.935019</td>\n",
       "      <td>10.000000</td>\n",
       "      <td>0.134921</td>\n",
       "      <td>MRK001</td>\n",
       "      <td>Medium</td>\n",
       "      <td>92.238961</td>\n",
       "      <td>3</td>\n",
       "      <td>98.842943</td>\n",
       "      <td>95.778146</td>\n",
       "      <td>101.907742</td>\n",
       "      <td>1.262650</td>\n",
       "      <td>-3.088293</td>\n",
       "      <td>-2.547914</td>\n",
       "      <td>NEI</td>\n",
       "    </tr>\n",
       "    <tr>\n",
       "      <th>19</th>\n",
       "      <td>0.610597</td>\n",
       "      <td>10.000000</td>\n",
       "      <td>0.102237</td>\n",
       "      <td>MRK002</td>\n",
       "      <td>Medium</td>\n",
       "      <td>100.957040</td>\n",
       "      <td>4</td>\n",
       "      <td>102.183778</td>\n",
       "      <td>101.271680</td>\n",
       "      <td>103.095877</td>\n",
       "      <td>1.253119</td>\n",
       "      <td>-2.245755</td>\n",
       "      <td>-2.045912</td>\n",
       "      <td>NEI</td>\n",
       "    </tr>\n",
       "    <tr>\n",
       "      <th>20</th>\n",
       "      <td>0.177355</td>\n",
       "      <td>10.000000</td>\n",
       "      <td>0.010000</td>\n",
       "      <td>MRK002</td>\n",
       "      <td>Medium</td>\n",
       "      <td>92.773927</td>\n",
       "      <td>4</td>\n",
       "      <td>95.668112</td>\n",
       "      <td>89.993270</td>\n",
       "      <td>101.342956</td>\n",
       "      <td>0.937954</td>\n",
       "      <td>-3.426519</td>\n",
       "      <td>-2.045912</td>\n",
       "      <td>NEI</td>\n",
       "    </tr>\n",
       "    <tr>\n",
       "      <th>21</th>\n",
       "      <td>0.509228</td>\n",
       "      <td>22.560394</td>\n",
       "      <td>0.100301</td>\n",
       "      <td>MRK002</td>\n",
       "      <td>Medium</td>\n",
       "      <td>99.653614</td>\n",
       "      <td>4</td>\n",
       "      <td>101.767473</td>\n",
       "      <td>100.439377</td>\n",
       "      <td>103.095569</td>\n",
       "      <td>1.232982</td>\n",
       "      <td>-2.430293</td>\n",
       "      <td>-2.045912</td>\n",
       "      <td>NEI</td>\n",
       "    </tr>\n",
       "  </tbody>\n",
       "</table>\n",
       "</div>"
      ],
      "text/plain": [
       "                Temperature  Concentration    Enzyme Variant Stir Rate  \\\n",
       "Observation ID                                                           \n",
       "0                  8.000000      17.000000  0.140500  MRK001    Medium   \n",
       "1                 12.000000     143.000000  0.169500  MRK003    Medium   \n",
       "2                  4.000000     101.000000  0.285500  MRK002      High   \n",
       "3                 28.000000      87.000000  0.111500  MRK002       Low   \n",
       "4                 -4.000000     115.000000  0.227500  MRK001       Low   \n",
       "5                 -8.000000      73.000000  0.082500  MRK002    Medium   \n",
       "6                 20.000000     129.000000  0.053500  MRK001      High   \n",
       "7                 24.000000      31.000000  0.256500  MRK002    Medium   \n",
       "8                 16.000000      59.000000  0.198500  MRK003      High   \n",
       "9                  0.000000      45.000000  0.024500  MRK003       Low   \n",
       "10               -10.000000      10.000000  0.131014  MRK001       Low   \n",
       "11               -10.000000      10.000000  0.135985  MRK001      High   \n",
       "12                -1.227879      10.000000  0.114474  MRK002       Low   \n",
       "13                 0.959288      10.000000  0.097640  MRK001    Medium   \n",
       "14                -0.218806      30.249728  0.132364  MRK001       Low   \n",
       "15                 8.886605      10.000000  0.079072  MRK001    Medium   \n",
       "16                -3.117858      10.000000  0.117681  MRK002    Medium   \n",
       "17                -7.141344      10.000000  0.082840  MRK001    Medium   \n",
       "18                -5.935019      10.000000  0.134921  MRK001    Medium   \n",
       "19                 0.610597      10.000000  0.102237  MRK002    Medium   \n",
       "20                 0.177355      10.000000  0.010000  MRK002    Medium   \n",
       "21                 0.509228      22.560394  0.100301  MRK002    Medium   \n",
       "\n",
       "                     Yield  Iteration  Yield (pred)    Yield lb    Yield ub  \\\n",
       "Observation ID                                                                \n",
       "0                92.339807          0           NaN         NaN         NaN   \n",
       "1                44.280131          0           NaN         NaN         NaN   \n",
       "2                46.270422          0           NaN         NaN         NaN   \n",
       "3                60.288919          0           NaN         NaN         NaN   \n",
       "4                63.082417          0           NaN         NaN         NaN   \n",
       "5                86.196333          0           NaN         NaN         NaN   \n",
       "6                47.625034          0           NaN         NaN         NaN   \n",
       "7                48.966143          0           NaN         NaN         NaN   \n",
       "8                49.876574          0           NaN         NaN         NaN   \n",
       "9                81.228810          0           NaN         NaN         NaN   \n",
       "10               92.196849          1    104.655575   97.694464  111.616687   \n",
       "11               74.499468          1    101.870533   94.441592  109.299474   \n",
       "12               95.000467          1    101.243266   97.004850  105.481684   \n",
       "13               99.358983          2     96.085100   91.064223  101.105978   \n",
       "14               91.609498          2     93.406619   89.487201   97.326037   \n",
       "15               91.313624          2     92.856229   86.112203   99.600256   \n",
       "16               99.997949          3    100.371375   98.746583  101.996166   \n",
       "17               92.892841          3     98.111419   95.274803  100.948035   \n",
       "18               92.238961          3     98.842943   95.778146  101.907742   \n",
       "19              100.957040          4    102.183778  101.271680  103.095877   \n",
       "20               92.773927          4     95.668112   89.993270  101.342956   \n",
       "21               99.653614          4    101.767473  100.439377  103.095569   \n",
       "\n",
       "                f(Yield)  aq Value  aq Value (joint) aq Method  \n",
       "Observation ID                                                  \n",
       "0                    NaN       NaN               NaN       NaN  \n",
       "1                    NaN       NaN               NaN       NaN  \n",
       "2                    NaN       NaN               NaN       NaN  \n",
       "3                    NaN       NaN               NaN       NaN  \n",
       "4                    NaN       NaN               NaN       NaN  \n",
       "5                    NaN       NaN               NaN       NaN  \n",
       "6                    NaN       NaN               NaN       NaN  \n",
       "7                    NaN       NaN               NaN       NaN  \n",
       "8                    NaN       NaN               NaN       NaN  \n",
       "9                    NaN       NaN               NaN       NaN  \n",
       "10              2.349349 -0.380345         -0.292665       NEI  \n",
       "11              2.195901 -0.612096         -0.292665       NEI  \n",
       "12              2.161341 -0.709565         -0.292665       NEI  \n",
       "13              1.430625 -2.056921         -1.718530       NEI  \n",
       "14              1.294984 -3.151629         -1.718530       NEI  \n",
       "15              1.267112 -2.473038         -1.718530       NEI  \n",
       "16              1.336635 -2.798015         -2.547914       NEI  \n",
       "17              1.227240 -3.570208         -2.547914       NEI  \n",
       "18              1.262650 -3.088293         -2.547914       NEI  \n",
       "19              1.253119 -2.245755         -2.045912       NEI  \n",
       "20              0.937954 -3.426519         -2.045912       NEI  \n",
       "21              1.232982 -2.430293         -2.045912       NEI  "
      ]
     },
     "execution_count": 16,
     "metadata": {},
     "output_type": "execute_result"
    }
   ],
   "source": [
    "campaign.data"
   ]
  },
  {
   "cell_type": "code",
   "execution_count": null,
   "metadata": {},
   "outputs": [],
   "source": []
  }
 ],
 "metadata": {
  "kernelspec": {
   "display_name": "Python 3 (ipykernel)",
   "language": "python",
   "name": "python3"
  },
  "language_info": {
   "codemirror_mode": {
    "name": "ipython",
    "version": 3
   },
   "file_extension": ".py",
   "mimetype": "text/x-python",
   "name": "python",
   "nbconvert_exporter": "python",
   "pygments_lexer": "ipython3",
   "version": "3.10.14"
  }
 },
 "nbformat": 4,
 "nbformat_minor": 4
}
