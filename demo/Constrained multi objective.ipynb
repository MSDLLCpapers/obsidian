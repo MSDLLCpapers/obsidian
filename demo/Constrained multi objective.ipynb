{
 "cells": [
  {
   "cell_type": "code",
   "execution_count": null,
   "metadata": {},
   "outputs": [],
   "source": [
    "import obsidian\n",
    "obsidian.__version__"
   ]
  },
  {
   "cell_type": "code",
   "execution_count": null,
   "metadata": {},
   "outputs": [],
   "source": [
    "import pandas as pd\n",
    "import plotly.express as px"
   ]
  },
  {
   "cell_type": "code",
   "execution_count": null,
   "metadata": {},
   "outputs": [],
   "source": [
    "from obsidian.parameters import ParamSpace, Param_Continuous\n",
    "from obsidian.experiment import ExpDesigner"
   ]
  },
  {
   "cell_type": "markdown",
   "metadata": {},
   "source": [
    "### Set up parameter space and initialize a design"
   ]
  },
  {
   "cell_type": "code",
   "execution_count": null,
   "metadata": {},
   "outputs": [],
   "source": [
    "params = [\n",
    "    Param_Continuous('X1', 0, 10),\n",
    "    Param_Continuous('X2', 0, 10),\n",
    "    ]\n",
    "\n",
    "X_space = ParamSpace(params)\n",
    "designer = ExpDesigner(X_space, seed=0)\n",
    "X0 = designer.initialize(4, 'LHS')\n",
    "\n",
    "X0"
   ]
  },
  {
   "cell_type": "markdown",
   "metadata": {},
   "source": [
    "### Collect results (e.g. from a simulation)"
   ]
  },
  {
   "cell_type": "code",
   "execution_count": null,
   "metadata": {},
   "outputs": [],
   "source": [
    "from obsidian.experiment import Simulator\n",
    "from obsidian.experiment.benchmark import branin_currin\n",
    "\n",
    "simulator = Simulator(X_space, branin_currin, name='Response', eps=0.05)\n",
    "y0 = simulator.simulate(X0)\n",
    "Z0 = pd.concat([X0, y0], axis=1)\n",
    "\n",
    "Z0"
   ]
  },
  {
   "cell_type": "code",
   "execution_count": null,
   "metadata": {},
   "outputs": [],
   "source": [
    "Z0.plot(x='Response 1', y='Response 2', kind='scatter', figsize=(4,3))"
   ]
  },
  {
   "cell_type": "markdown",
   "metadata": {},
   "source": [
    "### Define the Target"
   ]
  },
  {
   "cell_type": "code",
   "execution_count": null,
   "metadata": {},
   "outputs": [],
   "source": [
    "from obsidian.parameters import Target\n",
    "\n",
    "target = [\n",
    "    Target('Response 1', aim='max'),\n",
    "    Target('Response 2', aim='min')\n",
    "]"
   ]
  },
  {
   "cell_type": "markdown",
   "metadata": {},
   "source": [
    "### Create a campaign to track optimization"
   ]
  },
  {
   "cell_type": "code",
   "execution_count": null,
   "metadata": {},
   "outputs": [],
   "source": [
    "from obsidian.campaign import Campaign"
   ]
  },
  {
   "cell_type": "code",
   "execution_count": null,
   "metadata": {},
   "outputs": [],
   "source": [
    "my_campaign = Campaign(X_space, target)\n",
    "my_campaign.add_data(Z0)\n",
    "my_campaign.data"
   ]
  },
  {
   "cell_type": "markdown",
   "metadata": {},
   "source": [
    "### Fit an optimizer"
   ]
  },
  {
   "cell_type": "code",
   "execution_count": null,
   "metadata": {},
   "outputs": [],
   "source": [
    "my_campaign.fit()"
   ]
  },
  {
   "cell_type": "markdown",
   "metadata": {},
   "source": [
    "### Make new experiment suggestions"
   ]
  },
  {
   "cell_type": "code",
   "execution_count": null,
   "metadata": {},
   "outputs": [],
   "source": [
    "from obsidian.constraints import InConstraint_Generic"
   ]
  },
  {
   "cell_type": "code",
   "execution_count": null,
   "metadata": {},
   "outputs": [],
   "source": [
    "# # X1 + X2 >= 2\n",
    "# optim_kwargs = {'m_batch':2, 'acquisition':[{'NEHVI':{'ref_point':[-350,0]}}], 'ineq_constraints':[InConstraint_Generic(X_space, indices=[0,1], coeff=[1,1], rhs=2)]}\n",
    "\n",
    "# X1 + X2 <= 6 aka -X1 - X2 >= -6\n",
    "optim_kwargs = {'m_batch':2, 'acquisition':[{'NEHVI':{'ref_point':[-350,0]}}], 'ineq_constraints':[InConstraint_Generic(X_space, indices=[0,1], coeff=[-1,-1], rhs=-6)]}\n",
    "\n",
    "X_suggest, eval_suggest = my_campaign.optimizer.suggest(**optim_kwargs)"
   ]
  },
  {
   "cell_type": "code",
   "execution_count": null,
   "metadata": {},
   "outputs": [],
   "source": [
    "pd.concat([X_suggest, eval_suggest], axis=1)"
   ]
  },
  {
   "cell_type": "markdown",
   "metadata": {},
   "source": [
    "### Collect data at new suggestions"
   ]
  },
  {
   "cell_type": "code",
   "execution_count": null,
   "metadata": {},
   "outputs": [],
   "source": [
    "y_iter1 = pd.DataFrame(simulator.simulate(X_suggest))\n",
    "Z_iter1 = pd.concat([X_suggest, y_iter1, eval_suggest], axis=1)\n",
    "my_campaign.add_data(Z_iter1)\n",
    "my_campaign.data"
   ]
  },
  {
   "cell_type": "markdown",
   "metadata": {},
   "source": [
    "### Repeat as desired"
   ]
  },
  {
   "cell_type": "code",
   "execution_count": null,
   "metadata": {},
   "outputs": [],
   "source": [
    "for iter in range(5):\n",
    "    my_campaign.fit()\n",
    "    X_suggest, eval_suggest = my_campaign.optimizer.suggest(**optim_kwargs)\n",
    "    y_iter = pd.DataFrame(simulator.simulate(X_suggest))\n",
    "    Z_iter = pd.concat([X_suggest, y_iter, eval_suggest], axis=1)\n",
    "    my_campaign.add_data(Z_iter)"
   ]
  },
  {
   "cell_type": "code",
   "execution_count": null,
   "metadata": {},
   "outputs": [],
   "source": [
    "fig = px.scatter(my_campaign.data, x='Response 1', y='Response 2', color='Iteration')\n",
    "fig.update_layout(height=300, width=400, template='ggplot2')"
   ]
  },
  {
   "cell_type": "code",
   "execution_count": null,
   "metadata": {},
   "outputs": [],
   "source": [
    "my_campaign.data"
   ]
  },
  {
   "cell_type": "code",
   "execution_count": null,
   "metadata": {},
   "outputs": [],
   "source": []
  },
  {
   "cell_type": "code",
   "execution_count": null,
   "metadata": {},
   "outputs": [],
   "source": []
  }
 ],
 "metadata": {
  "kernelspec": {
   "display_name": "Python 3 (ipykernel)",
   "language": "python",
   "name": "python3"
  },
  "language_info": {
   "codemirror_mode": {
    "name": "ipython",
    "version": 3
   },
   "file_extension": ".py",
   "mimetype": "text/x-python",
   "name": "python",
   "nbconvert_exporter": "python",
   "pygments_lexer": "ipython3",
   "version": "3.10.14"
  }
 },
 "nbformat": 4,
 "nbformat_minor": 4
}
