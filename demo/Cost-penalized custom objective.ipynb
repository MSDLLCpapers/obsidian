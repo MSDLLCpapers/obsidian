{
 "cells": [
  {
   "cell_type": "code",
   "execution_count": null,
   "metadata": {},
   "outputs": [],
   "source": [
    "import obsidian\n",
    "print(f'obsidian version: ' + obsidian.__version__)\n",
    "\n",
    "import pandas as pd\n",
    "import plotly.express as px\n",
    "import plotly.io as pio\n",
    "pio.renderers.default = \"plotly_mimetype+notebook\""
   ]
  },
  {
   "cell_type": "markdown",
   "metadata": {},
   "source": [
    "## Introduction"
   ]
  },
  {
   "cell_type": "markdown",
   "metadata": {},
   "source": [
    "In this tutorial, we will examine usage of _obsidian_ for performing a cost-penalized optimization using a tailored objective function.\n",
    "\n",
    "Often times, it is desireable to generate an objective function based on the input data `X`. Rather than build a model to a response calculated off-line, it is best to capture the analytical form where possible. The custom objective `Feature_Objective` simply allows the user to index the input variables and multiply them by coefficient(s) to generate a new objective function. In this example, we will create a  `Feature_Objective` based off of \"Enzyme\" loading, to simulate an optimization where product yield might be weighed against an expensive input.\n",
    "\n",
    "The optimization problem then becomes multi-output: \"Product\" and \"Penalized Enzyme.\" However, we can combine these further to create a single objective function using a `Scalarization`. In the simplest case, we may want to add the two objectives with equal weights, which would be the default behavior of `Scalarize_WeightedSum`.\n",
    "\n",
    "In _obsidian_, we combine a sequence of objectives using `Objective_Sequence`. Thus, finally, the final objective function is `objective = Objective_Sequence([Feature_Objective, Scalarize_WeightedSum])` and single-output acquisition functions may be used to select optimal experiments."
   ]
  },
  {
   "cell_type": "markdown",
   "metadata": {},
   "source": [
    "## Set up parameter space and initialize a design"
   ]
  },
  {
   "cell_type": "code",
   "execution_count": null,
   "metadata": {},
   "outputs": [],
   "source": [
    "from obsidian import Campaign, Target, ParamSpace, BayesianOptimizer\n",
    "from obsidian.parameters import Param_Continuous"
   ]
  },
  {
   "cell_type": "code",
   "execution_count": null,
   "metadata": {},
   "outputs": [],
   "source": [
    "params = [\n",
    "    Param_Continuous('Temperature', -10, 30),\n",
    "    Param_Continuous('Concentration', 10, 150),\n",
    "    Param_Continuous('Enzyme', 0.01, 0.30),\n",
    "    ]\n",
    "\n",
    "X_space = ParamSpace(params)\n",
    "target = Target('Product', aim='max')\n",
    "campaign = Campaign(X_space, target, seed=0)\n",
    "X0 = campaign.initialize(m_initial = 10, method = 'LHS')\n",
    "\n",
    "X0"
   ]
  },
  {
   "cell_type": "markdown",
   "metadata": {},
   "source": [
    "## Collect results (e.g. from a simulation)"
   ]
  },
  {
   "cell_type": "code",
   "execution_count": null,
   "metadata": {},
   "outputs": [],
   "source": [
    "from obsidian.experiment import Simulator\n",
    "from obsidian.experiment.benchmark import cornered_parab\n",
    "\n",
    "simulator = Simulator(X_space, cornered_parab, name='Product', eps=0.05)\n",
    "y0 = simulator.simulate(X0)\n",
    "Z0 = pd.concat([X0, y0], axis=1)\n",
    "\n",
    "campaign.add_data(Z0)\n",
    "campaign.data.sample(5)"
   ]
  },
  {
   "cell_type": "markdown",
   "metadata": {},
   "source": [
    "## Fit the optimizer and visualize results"
   ]
  },
  {
   "cell_type": "code",
   "execution_count": null,
   "metadata": {},
   "outputs": [],
   "source": [
    "campaign.fit()"
   ]
  },
  {
   "cell_type": "code",
   "execution_count": null,
   "metadata": {},
   "outputs": [],
   "source": [
    "from obsidian.plotting import factor_plot, optim_progress"
   ]
  },
  {
   "cell_type": "code",
   "execution_count": null,
   "metadata": {},
   "outputs": [],
   "source": [
    "factor_plot(campaign.optimizer, feature_id=1)"
   ]
  },
  {
   "cell_type": "markdown",
   "metadata": {},
   "source": [
    "## Optimize new experiment suggestions"
   ]
  },
  {
   "cell_type": "code",
   "execution_count": null,
   "metadata": {},
   "outputs": [],
   "source": [
    "from obsidian.objectives import Objective_Sequence, Feature_Objective, Scalar_WeightedSum"
   ]
  },
  {
   "cell_type": "markdown",
   "metadata": {},
   "source": [
    "Note: Objectives can be passed directly to an `Optimizer`, or set using `campaign.set_objective()` after which the `Campaign` will automatically use the objective durign `campaign.suggest()`. At any time, the objective can be re-set to a new objective, or deleted using `campaign.clear_objective()`."
   ]
  },
  {
   "cell_type": "code",
   "execution_count": null,
   "metadata": {},
   "outputs": [],
   "source": [
    "penalize_enz_loading = Feature_Objective(X_space, indices=[2], coeff=[-5])\n",
    "add_objectives = Scalar_WeightedSum(1)\n",
    "\n",
    "campaign.set_objective(objective=Objective_Sequence([penalize_enz_loading, add_objectives]))"
   ]
  },
  {
   "cell_type": "code",
   "execution_count": null,
   "metadata": {},
   "outputs": [],
   "source": [
    "X_suggest, eval_suggest = campaign.suggest(m_batch = 3, optim_sequential = False)"
   ]
  },
  {
   "cell_type": "code",
   "execution_count": null,
   "metadata": {},
   "outputs": [],
   "source": [
    "df_suggest = pd.concat([X_suggest, eval_suggest], axis=1)\n",
    "df_suggest"
   ]
  },
  {
   "cell_type": "markdown",
   "metadata": {},
   "source": [
    "Note: We can examine the output of various objectives within the sequence by passing them directly to `optimizer.evaluate`. Here, we can explicitly see the balance of Objective 1 (product response) and Objective 2 (cost penalty) before they are combined in the weighted sum."
   ]
  },
  {
   "cell_type": "code",
   "execution_count": null,
   "metadata": {},
   "outputs": [],
   "source": [
    "campaign.optimizer.evaluate(X_suggest, objective=penalize_enz_loading)"
   ]
  },
  {
   "cell_type": "markdown",
   "metadata": {},
   "source": [
    "## Collect data at new suggestions"
   ]
  },
  {
   "cell_type": "code",
   "execution_count": null,
   "metadata": {},
   "outputs": [],
   "source": [
    "y_iter1 = pd.DataFrame(simulator.simulate(X_suggest), columns = ['Product'])\n",
    "Z_iter1 = pd.concat([X_suggest, y_iter1, eval_suggest], axis=1)\n",
    "campaign.add_data(Z_iter1)\n",
    "campaign.data.tail()"
   ]
  },
  {
   "cell_type": "markdown",
   "metadata": {},
   "source": [
    "## Repeat as desired"
   ]
  },
  {
   "cell_type": "code",
   "execution_count": null,
   "metadata": {},
   "outputs": [],
   "source": [
    "for iter in range(3):\n",
    "    campaign.fit()\n",
    "    X_suggest, eval_suggest = campaign.suggest(m_batch=3)\n",
    "    y_iter = pd.DataFrame(simulator.simulate(X_suggest))\n",
    "    Z_iter = pd.concat([X_suggest, y_iter, eval_suggest], axis=1)\n",
    "    campaign.add_data(Z_iter)"
   ]
  },
  {
   "cell_type": "markdown",
   "metadata": {},
   "source": [
    "Examine the optimization progress from the context of different elements of the compositve objective function\n",
    "\n",
    "First, the final objective - a weighted sum of product yield and a cost-penalized input."
   ]
  },
  {
   "cell_type": "code",
   "execution_count": null,
   "metadata": {},
   "outputs": [],
   "source": [
    "optim_progress(campaign, color_feature_id = 'aq Value')"
   ]
  },
  {
   "cell_type": "markdown",
   "metadata": {},
   "source": [
    "Next, we can specifically examine the context of the multi-output optimization minimizing (maximizing negative) cost (Objective 2) and maximizing product (Objective 1)."
   ]
  },
  {
   "cell_type": "code",
   "execution_count": null,
   "metadata": {},
   "outputs": [],
   "source": [
    "campaign.set_objective(penalize_enz_loading)\n",
    "optim_progress(campaign)\n"
   ]
  },
  {
   "cell_type": "markdown",
   "metadata": {},
   "source": [
    "Finally, we can clear the objective entirely and just examine how this optimization performed from the lens of product alone."
   ]
  },
  {
   "cell_type": "code",
   "execution_count": null,
   "metadata": {},
   "outputs": [],
   "source": [
    "campaign.clear_objective()\n",
    "optim_progress(campaign)"
   ]
  }
 ],
 "metadata": {
  "kernelspec": {
   "display_name": "Python 3 (ipykernel)",
   "language": "python",
   "name": "python3"
  },
  "language_info": {
   "codemirror_mode": {
    "name": "ipython",
    "version": 3
   },
   "file_extension": ".py",
   "mimetype": "text/x-python",
   "name": "python",
   "nbconvert_exporter": "python",
   "pygments_lexer": "ipython3",
   "version": "3.10.14"
  }
 },
 "nbformat": 4,
 "nbformat_minor": 4
}
